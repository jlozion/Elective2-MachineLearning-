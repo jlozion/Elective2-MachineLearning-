{
  "nbformat": 4,
  "nbformat_minor": 0,
  "metadata": {
    "colab": {
      "provenance": [],
      "collapsed_sections": [
        "6Ijg5wUCTQYG",
        "iFUQqbRp1lil",
        "QFQ-u62X0kqm",
        "32vk2-Vn5l3Z",
        "VnxYYabO0Bdt",
        "KGpasg3L6Je4",
        "JD1ChXPF6BR7",
        "fW7anvxr0rRp",
        "vIhIK0Cd_hGs"
      ],
      "include_colab_link": true
    },
    "kernelspec": {
      "name": "python3",
      "display_name": "Python 3"
    }
  },
  "cells": [
    {
      "cell_type": "markdown",
      "metadata": {
        "id": "view-in-github",
        "colab_type": "text"
      },
      "source": [
        "<a href=\"https://colab.research.google.com/github/jlozion/Elective2-MachineLearning-/blob/main/Cleaning_Data_in_Python_live_session.ipynb\" target=\"_parent\"><img src=\"https://colab.research.google.com/assets/colab-badge.svg\" alt=\"Open In Colab\"/></a>"
      ]
    },
    {
      "cell_type": "markdown",
      "metadata": {
        "id": "6Ijg5wUCTQYG"
      },
      "source": [
        "## **Cleaning Data in Python live training**\n",
        "\n",
        "Welcome to this live, hands-on training where you will learn how to effectively diagnose and treat missing data in Python.\n",
        "\n",
        "The majority of data science work often revolves around pre-processing data, and making sure it's ready for analysis. In this session, we will be covering how transform our raw data into accurate insights. In this notebook, you will learn:\n",
        "\n",
        "* Import data into `pandas`, and use simple functions to diagnose problems in our data.\n",
        "* Visualize missing and out of range data using `missingno` and `seaborn`.\n",
        "* Apply a range of data cleaning tasks that will ensure the delivery of accurate insights.\n"
      ]
    },
    {
      "cell_type": "markdown",
      "metadata": {
        "id": "BMYfcKeDY85K"
      },
      "source": [
        "## **Getting started**"
      ]
    },
    {
      "cell_type": "code",
      "metadata": {
        "id": "EMQfyC7GUNhT"
      },
      "source": [
        "# Import libraries\n",
        "import pandas as pd\n",
        "import matplotlib.pyplot as plt\n",
        "import numpy as np\n",
        "import seaborn as sns\n",
        "import missingno as msno\n",
        "import datetime as dt"
      ],
      "execution_count": 3,
      "outputs": []
    },
    {
      "cell_type": "code",
      "metadata": {
        "id": "l8t_EwRNZPLB"
      },
      "source": [
        "# Read in the dataset\n",
        "new_year_resolution = pd.read_csv('/content/new_year_resolution.csv', index_col = 0)"
      ],
      "execution_count": 14,
      "outputs": []
    },
    {
      "cell_type": "markdown",
      "metadata": {
        "id": "1ui1uvtyZwfQ"
      },
      "source": [
        "## **Diagnosing data cleaning problems using simple `pandas` and visualizations** "
      ]
    },
    {
      "cell_type": "markdown",
      "metadata": {
        "id": "t3fgtos4Z6Xa"
      },
      "source": [
        "Some important and common methods needed to get a better understanding of DataFrames and diagnose potential data problems are the following: \n",
        "\n",
        "- `.head()` prints the header of a DataFrame\n",
        "- `.dtypes` prints datatypes of all columns in a DataFrame\n",
        "- `.info()` provides a bird's eye view of column data types and missing values in a DataFrame\n",
        "- `.describe()` returns a distribution of numeric columns in your DataFrame\n",
        "- `.isna().sum()` allows us to break down the number of missing values per column in our DataFrame\n",
        "- `.unique()` finds the number of unique values in a DataFrame column\n",
        "- `sns.displot()` plots the distribution of one column in your DataFrame."
      ]
    },
    {
      "cell_type": "code",
      "metadata": {
        "id": "x3w1WbkFZ-ig",
        "outputId": "8c7c5d03-dcf2-445d-bf90-5c0905968e15",
        "colab": {
          "base_uri": "https://localhost:8080/",
          "height": 206
        }
      },
      "source": [
        "# Print the header of the DataFrame\n",
        "new_year_resolution.head(4)"
      ],
      "execution_count": 6,
      "outputs": [
        {
          "output_type": "execute_result",
          "data": {
            "text/plain": [
              "                                               Name  Age             Gender  \\\n",
              "Email Address                                                                 \n",
              "annepauline.topacio@tup.edu.ph      Pauline Topacio   22             Female   \n",
              "paulenglaxamana@gmail.com                   Pauleng   20  Prefer not to say   \n",
              "chinmacy.maroto@tup.edu.ph      Chin Macy E. Maroto   22             Female   \n",
              "jamiiemoros30@gmail.com                      jamiie   22  Prefer not to say   \n",
              "\n",
              "                               Profession  \\\n",
              "Email Address                               \n",
              "annepauline.topacio@tup.edu.ph    Student   \n",
              "paulenglaxamana@gmail.com         Student   \n",
              "chinmacy.maroto@tup.edu.ph        Student   \n",
              "jamiiemoros30@gmail.com          Student    \n",
              "\n",
              "                                                            New Year's Resolution  \n",
              "Email Address                                                                      \n",
              "annepauline.topacio@tup.edu.ph  Eat healthier, Read more, Lose weight, Achieve...  \n",
              "paulenglaxamana@gmail.com       Get a new job, Spend more time with family and...  \n",
              "chinmacy.maroto@tup.edu.ph      Travel more, Eat healthier, Get a new job, Exe...  \n",
              "jamiiemoros30@gmail.com         Achieve a personal goal, Save money, Get more ...  "
            ],
            "text/html": [
              "\n",
              "  <div id=\"df-545e7610-aa17-4a89-a9cf-7920be969cfa\">\n",
              "    <div class=\"colab-df-container\">\n",
              "      <div>\n",
              "<style scoped>\n",
              "    .dataframe tbody tr th:only-of-type {\n",
              "        vertical-align: middle;\n",
              "    }\n",
              "\n",
              "    .dataframe tbody tr th {\n",
              "        vertical-align: top;\n",
              "    }\n",
              "\n",
              "    .dataframe thead th {\n",
              "        text-align: right;\n",
              "    }\n",
              "</style>\n",
              "<table border=\"1\" class=\"dataframe\">\n",
              "  <thead>\n",
              "    <tr style=\"text-align: right;\">\n",
              "      <th></th>\n",
              "      <th>Name</th>\n",
              "      <th>Age</th>\n",
              "      <th>Gender</th>\n",
              "      <th>Profession</th>\n",
              "      <th>New Year's Resolution</th>\n",
              "    </tr>\n",
              "    <tr>\n",
              "      <th>Email Address</th>\n",
              "      <th></th>\n",
              "      <th></th>\n",
              "      <th></th>\n",
              "      <th></th>\n",
              "      <th></th>\n",
              "    </tr>\n",
              "  </thead>\n",
              "  <tbody>\n",
              "    <tr>\n",
              "      <th>annepauline.topacio@tup.edu.ph</th>\n",
              "      <td>Pauline Topacio</td>\n",
              "      <td>22</td>\n",
              "      <td>Female</td>\n",
              "      <td>Student</td>\n",
              "      <td>Eat healthier, Read more, Lose weight, Achieve...</td>\n",
              "    </tr>\n",
              "    <tr>\n",
              "      <th>paulenglaxamana@gmail.com</th>\n",
              "      <td>Pauleng</td>\n",
              "      <td>20</td>\n",
              "      <td>Prefer not to say</td>\n",
              "      <td>Student</td>\n",
              "      <td>Get a new job, Spend more time with family and...</td>\n",
              "    </tr>\n",
              "    <tr>\n",
              "      <th>chinmacy.maroto@tup.edu.ph</th>\n",
              "      <td>Chin Macy E. Maroto</td>\n",
              "      <td>22</td>\n",
              "      <td>Female</td>\n",
              "      <td>Student</td>\n",
              "      <td>Travel more, Eat healthier, Get a new job, Exe...</td>\n",
              "    </tr>\n",
              "    <tr>\n",
              "      <th>jamiiemoros30@gmail.com</th>\n",
              "      <td>jamiie</td>\n",
              "      <td>22</td>\n",
              "      <td>Prefer not to say</td>\n",
              "      <td>Student</td>\n",
              "      <td>Achieve a personal goal, Save money, Get more ...</td>\n",
              "    </tr>\n",
              "  </tbody>\n",
              "</table>\n",
              "</div>\n",
              "      <button class=\"colab-df-convert\" onclick=\"convertToInteractive('df-545e7610-aa17-4a89-a9cf-7920be969cfa')\"\n",
              "              title=\"Convert this dataframe to an interactive table.\"\n",
              "              style=\"display:none;\">\n",
              "        \n",
              "  <svg xmlns=\"http://www.w3.org/2000/svg\" height=\"24px\"viewBox=\"0 0 24 24\"\n",
              "       width=\"24px\">\n",
              "    <path d=\"M0 0h24v24H0V0z\" fill=\"none\"/>\n",
              "    <path d=\"M18.56 5.44l.94 2.06.94-2.06 2.06-.94-2.06-.94-.94-2.06-.94 2.06-2.06.94zm-11 1L8.5 8.5l.94-2.06 2.06-.94-2.06-.94L8.5 2.5l-.94 2.06-2.06.94zm10 10l.94 2.06.94-2.06 2.06-.94-2.06-.94-.94-2.06-.94 2.06-2.06.94z\"/><path d=\"M17.41 7.96l-1.37-1.37c-.4-.4-.92-.59-1.43-.59-.52 0-1.04.2-1.43.59L10.3 9.45l-7.72 7.72c-.78.78-.78 2.05 0 2.83L4 21.41c.39.39.9.59 1.41.59.51 0 1.02-.2 1.41-.59l7.78-7.78 2.81-2.81c.8-.78.8-2.07 0-2.86zM5.41 20L4 18.59l7.72-7.72 1.47 1.35L5.41 20z\"/>\n",
              "  </svg>\n",
              "      </button>\n",
              "      \n",
              "  <style>\n",
              "    .colab-df-container {\n",
              "      display:flex;\n",
              "      flex-wrap:wrap;\n",
              "      gap: 12px;\n",
              "    }\n",
              "\n",
              "    .colab-df-convert {\n",
              "      background-color: #E8F0FE;\n",
              "      border: none;\n",
              "      border-radius: 50%;\n",
              "      cursor: pointer;\n",
              "      display: none;\n",
              "      fill: #1967D2;\n",
              "      height: 32px;\n",
              "      padding: 0 0 0 0;\n",
              "      width: 32px;\n",
              "    }\n",
              "\n",
              "    .colab-df-convert:hover {\n",
              "      background-color: #E2EBFA;\n",
              "      box-shadow: 0px 1px 2px rgba(60, 64, 67, 0.3), 0px 1px 3px 1px rgba(60, 64, 67, 0.15);\n",
              "      fill: #174EA6;\n",
              "    }\n",
              "\n",
              "    [theme=dark] .colab-df-convert {\n",
              "      background-color: #3B4455;\n",
              "      fill: #D2E3FC;\n",
              "    }\n",
              "\n",
              "    [theme=dark] .colab-df-convert:hover {\n",
              "      background-color: #434B5C;\n",
              "      box-shadow: 0px 1px 3px 1px rgba(0, 0, 0, 0.15);\n",
              "      filter: drop-shadow(0px 1px 2px rgba(0, 0, 0, 0.3));\n",
              "      fill: #FFFFFF;\n",
              "    }\n",
              "  </style>\n",
              "\n",
              "      <script>\n",
              "        const buttonEl =\n",
              "          document.querySelector('#df-545e7610-aa17-4a89-a9cf-7920be969cfa button.colab-df-convert');\n",
              "        buttonEl.style.display =\n",
              "          google.colab.kernel.accessAllowed ? 'block' : 'none';\n",
              "\n",
              "        async function convertToInteractive(key) {\n",
              "          const element = document.querySelector('#df-545e7610-aa17-4a89-a9cf-7920be969cfa');\n",
              "          const dataTable =\n",
              "            await google.colab.kernel.invokeFunction('convertToInteractive',\n",
              "                                                     [key], {});\n",
              "          if (!dataTable) return;\n",
              "\n",
              "          const docLinkHtml = 'Like what you see? Visit the ' +\n",
              "            '<a target=\"_blank\" href=https://colab.research.google.com/notebooks/data_table.ipynb>data table notebook</a>'\n",
              "            + ' to learn more about interactive tables.';\n",
              "          element.innerHTML = '';\n",
              "          dataTable['output_type'] = 'display_data';\n",
              "          await google.colab.output.renderOutput(dataTable, element);\n",
              "          const docLink = document.createElement('div');\n",
              "          docLink.innerHTML = docLinkHtml;\n",
              "          element.appendChild(docLink);\n",
              "        }\n",
              "      </script>\n",
              "    </div>\n",
              "  </div>\n",
              "  "
            ]
          },
          "metadata": {},
          "execution_count": 6
        }
      ]
    },
    {
      "cell_type": "markdown",
      "metadata": {
        "id": "kdp2jmQDal5L"
      },
      "source": [
        "By merely looking at the data, we can already diagnose a range of potential problems down the line such as:\n",
        "\n",
        "<br>\n",
        "\n",
        "_Data type problems:_\n",
        "\n",
        "- **Problem 1**: The returned object for New Year Resolution is usable. I have to think ways to piece by piece it. \n",
        "\n",
        "<br>\n",
        "\n",
        "_Missing data problems:_\n",
        "\n",
        "- **Problem 2**: We can see that there are missing data in some columns, we'll get a better bird's eye view of that down the line.\n",
        "\n",
        "<br>"
      ]
    },
    {
      "cell_type": "code",
      "metadata": {
        "id": "SiWS3EiPakp2",
        "outputId": "592ea8d2-32e1-40ad-dea9-421373962759",
        "colab": {
          "base_uri": "https://localhost:8080/"
        }
      },
      "source": [
        "# Print data types of DataFrame\n",
        "new_year_resolution.dtypes"
      ],
      "execution_count": null,
      "outputs": [
        {
          "output_type": "execute_result",
          "data": {
            "text/plain": [
              "Name                     object\n",
              "Age                       int64\n",
              "Gender                   object\n",
              "Profession               object\n",
              "New Year's Resolution    object\n",
              "dtype: object"
            ]
          },
          "metadata": {},
          "execution_count": 9
        }
      ]
    },
    {
      "cell_type": "code",
      "metadata": {
        "id": "KoT5LMdSiW1H",
        "outputId": "c260a967-d641-4a9d-9dcf-7a936c674904",
        "colab": {
          "base_uri": "https://localhost:8080/"
        }
      },
      "source": [
        "# Print info of DataFrame\n",
        "new_year_resolution.info()"
      ],
      "execution_count": null,
      "outputs": [
        {
          "output_type": "stream",
          "name": "stdout",
          "text": [
            "<class 'pandas.core.frame.DataFrame'>\n",
            "Index: 73 entries, annepauline.topacio@tup.edu.ph to matthewescandor52@gmail.com\n",
            "Data columns (total 5 columns):\n",
            " #   Column                 Non-Null Count  Dtype \n",
            "---  ------                 --------------  ----- \n",
            " 0   Name                   73 non-null     object\n",
            " 1   Age                    73 non-null     int64 \n",
            " 2   Gender                 73 non-null     object\n",
            " 3   Profession             67 non-null     object\n",
            " 4   New Year's Resolution  73 non-null     object\n",
            "dtypes: int64(1), object(4)\n",
            "memory usage: 3.4+ KB\n"
          ]
        }
      ]
    },
    {
      "cell_type": "code",
      "metadata": {
        "id": "dvsinK9zexdv",
        "outputId": "94fedf57-fe2d-4dd5-c924-81eef5e5be6e",
        "colab": {
          "base_uri": "https://localhost:8080/"
        }
      },
      "source": [
        "# Print number of missing values\n",
        "new_year_resolution.isna().sum()"
      ],
      "execution_count": null,
      "outputs": [
        {
          "output_type": "execute_result",
          "data": {
            "text/plain": [
              "Name                     0\n",
              "Age                      0\n",
              "Gender                   0\n",
              "Profession               6\n",
              "New Year's Resolution    0\n",
              "dtype: int64"
            ]
          },
          "metadata": {},
          "execution_count": 10
        }
      ]
    },
    {
      "cell_type": "code",
      "metadata": {
        "id": "ydyKeLnKgAHq",
        "outputId": "cd649b68-d349-4328-fd73-0b672a933b6f",
        "colab": {
          "base_uri": "https://localhost:8080/",
          "height": 300
        }
      },
      "source": [
        "# Print description of DataFrame\n",
        "new_year_resolution.describe()"
      ],
      "execution_count": null,
      "outputs": [
        {
          "output_type": "execute_result",
          "data": {
            "text/plain": [
              "             Age\n",
              "count  73.000000\n",
              "mean   22.273973\n",
              "std     5.429498\n",
              "min    13.000000\n",
              "25%    21.000000\n",
              "50%    22.000000\n",
              "75%    23.000000\n",
              "max    63.000000"
            ],
            "text/html": [
              "\n",
              "  <div id=\"df-cae5b2dc-7eb8-4a8c-a660-e153affc993e\">\n",
              "    <div class=\"colab-df-container\">\n",
              "      <div>\n",
              "<style scoped>\n",
              "    .dataframe tbody tr th:only-of-type {\n",
              "        vertical-align: middle;\n",
              "    }\n",
              "\n",
              "    .dataframe tbody tr th {\n",
              "        vertical-align: top;\n",
              "    }\n",
              "\n",
              "    .dataframe thead th {\n",
              "        text-align: right;\n",
              "    }\n",
              "</style>\n",
              "<table border=\"1\" class=\"dataframe\">\n",
              "  <thead>\n",
              "    <tr style=\"text-align: right;\">\n",
              "      <th></th>\n",
              "      <th>Age</th>\n",
              "    </tr>\n",
              "  </thead>\n",
              "  <tbody>\n",
              "    <tr>\n",
              "      <th>count</th>\n",
              "      <td>73.000000</td>\n",
              "    </tr>\n",
              "    <tr>\n",
              "      <th>mean</th>\n",
              "      <td>22.273973</td>\n",
              "    </tr>\n",
              "    <tr>\n",
              "      <th>std</th>\n",
              "      <td>5.429498</td>\n",
              "    </tr>\n",
              "    <tr>\n",
              "      <th>min</th>\n",
              "      <td>13.000000</td>\n",
              "    </tr>\n",
              "    <tr>\n",
              "      <th>25%</th>\n",
              "      <td>21.000000</td>\n",
              "    </tr>\n",
              "    <tr>\n",
              "      <th>50%</th>\n",
              "      <td>22.000000</td>\n",
              "    </tr>\n",
              "    <tr>\n",
              "      <th>75%</th>\n",
              "      <td>23.000000</td>\n",
              "    </tr>\n",
              "    <tr>\n",
              "      <th>max</th>\n",
              "      <td>63.000000</td>\n",
              "    </tr>\n",
              "  </tbody>\n",
              "</table>\n",
              "</div>\n",
              "      <button class=\"colab-df-convert\" onclick=\"convertToInteractive('df-cae5b2dc-7eb8-4a8c-a660-e153affc993e')\"\n",
              "              title=\"Convert this dataframe to an interactive table.\"\n",
              "              style=\"display:none;\">\n",
              "        \n",
              "  <svg xmlns=\"http://www.w3.org/2000/svg\" height=\"24px\"viewBox=\"0 0 24 24\"\n",
              "       width=\"24px\">\n",
              "    <path d=\"M0 0h24v24H0V0z\" fill=\"none\"/>\n",
              "    <path d=\"M18.56 5.44l.94 2.06.94-2.06 2.06-.94-2.06-.94-.94-2.06-.94 2.06-2.06.94zm-11 1L8.5 8.5l.94-2.06 2.06-.94-2.06-.94L8.5 2.5l-.94 2.06-2.06.94zm10 10l.94 2.06.94-2.06 2.06-.94-2.06-.94-.94-2.06-.94 2.06-2.06.94z\"/><path d=\"M17.41 7.96l-1.37-1.37c-.4-.4-.92-.59-1.43-.59-.52 0-1.04.2-1.43.59L10.3 9.45l-7.72 7.72c-.78.78-.78 2.05 0 2.83L4 21.41c.39.39.9.59 1.41.59.51 0 1.02-.2 1.41-.59l7.78-7.78 2.81-2.81c.8-.78.8-2.07 0-2.86zM5.41 20L4 18.59l7.72-7.72 1.47 1.35L5.41 20z\"/>\n",
              "  </svg>\n",
              "      </button>\n",
              "      \n",
              "  <style>\n",
              "    .colab-df-container {\n",
              "      display:flex;\n",
              "      flex-wrap:wrap;\n",
              "      gap: 12px;\n",
              "    }\n",
              "\n",
              "    .colab-df-convert {\n",
              "      background-color: #E8F0FE;\n",
              "      border: none;\n",
              "      border-radius: 50%;\n",
              "      cursor: pointer;\n",
              "      display: none;\n",
              "      fill: #1967D2;\n",
              "      height: 32px;\n",
              "      padding: 0 0 0 0;\n",
              "      width: 32px;\n",
              "    }\n",
              "\n",
              "    .colab-df-convert:hover {\n",
              "      background-color: #E2EBFA;\n",
              "      box-shadow: 0px 1px 2px rgba(60, 64, 67, 0.3), 0px 1px 3px 1px rgba(60, 64, 67, 0.15);\n",
              "      fill: #174EA6;\n",
              "    }\n",
              "\n",
              "    [theme=dark] .colab-df-convert {\n",
              "      background-color: #3B4455;\n",
              "      fill: #D2E3FC;\n",
              "    }\n",
              "\n",
              "    [theme=dark] .colab-df-convert:hover {\n",
              "      background-color: #434B5C;\n",
              "      box-shadow: 0px 1px 3px 1px rgba(0, 0, 0, 0.15);\n",
              "      filter: drop-shadow(0px 1px 2px rgba(0, 0, 0, 0.3));\n",
              "      fill: #FFFFFF;\n",
              "    }\n",
              "  </style>\n",
              "\n",
              "      <script>\n",
              "        const buttonEl =\n",
              "          document.querySelector('#df-cae5b2dc-7eb8-4a8c-a660-e153affc993e button.colab-df-convert');\n",
              "        buttonEl.style.display =\n",
              "          google.colab.kernel.accessAllowed ? 'block' : 'none';\n",
              "\n",
              "        async function convertToInteractive(key) {\n",
              "          const element = document.querySelector('#df-cae5b2dc-7eb8-4a8c-a660-e153affc993e');\n",
              "          const dataTable =\n",
              "            await google.colab.kernel.invokeFunction('convertToInteractive',\n",
              "                                                     [key], {});\n",
              "          if (!dataTable) return;\n",
              "\n",
              "          const docLinkHtml = 'Like what you see? Visit the ' +\n",
              "            '<a target=\"_blank\" href=https://colab.research.google.com/notebooks/data_table.ipynb>data table notebook</a>'\n",
              "            + ' to learn more about interactive tables.';\n",
              "          element.innerHTML = '';\n",
              "          dataTable['output_type'] = 'display_data';\n",
              "          await google.colab.output.renderOutput(dataTable, element);\n",
              "          const docLink = document.createElement('div');\n",
              "          docLink.innerHTML = docLinkHtml;\n",
              "          element.appendChild(docLink);\n",
              "        }\n",
              "      </script>\n",
              "    </div>\n",
              "  </div>\n",
              "  "
            ]
          },
          "metadata": {},
          "execution_count": 11
        }
      ]
    },
    {
      "cell_type": "code",
      "source": [
        "# Visualize the distribution of the Age\n",
        "sns.distplot(new_year_resolution['Age'], bins = 20)\n",
        "plt.title('Distribution of listing Age')\n",
        "plt.show()"
      ],
      "metadata": {
        "colab": {
          "base_uri": "https://localhost:8080/",
          "height": 350
        },
        "id": "a2zRZGoYHemo",
        "outputId": "a8c1f219-9e16-4b4d-b255-97ab5a1a1611"
      },
      "execution_count": null,
      "outputs": [
        {
          "output_type": "stream",
          "name": "stderr",
          "text": [
            "/usr/local/lib/python3.8/dist-packages/seaborn/distributions.py:2619: FutureWarning: `distplot` is a deprecated function and will be removed in a future version. Please adapt your code to use either `displot` (a figure-level function with similar flexibility) or `histplot` (an axes-level function for histograms).\n",
            "  warnings.warn(msg, FutureWarning)\n"
          ]
        },
        {
          "output_type": "display_data",
          "data": {
            "text/plain": [
              "<Figure size 432x288 with 1 Axes>"
            ],
            "image/png": "[encoded data removed]"
          },
          "metadata": {
            "needs_background": "light"
          }
        }
      ]
    },
    {
      "cell_type": "code",
      "metadata": {
        "id": "mvJGrqxRjihF",
        "outputId": "ec97df6a-dae9-4457-8741-e80db0fde136",
        "colab": {
          "base_uri": "https://localhost:8080/"
        }
      },
      "source": [
        "# Find number of unique values in Profession\n",
        "new_year_resolution['Profession'].unique()"
      ],
      "execution_count": null,
      "outputs": [
        {
          "output_type": "execute_result",
          "data": {
            "text/plain": [
              "array(['Student', 'Student ', 'BSEED MAJOR IN SOCIAL STUDIES', nan,\n",
              "       'Analyst ', 'student ', 'student', 'Laboratory Analyst',\n",
              "       'Unemployed', 'Civil Engineer', 'Talent Acquisition Specialist',\n",
              "       'House Wife', 'Wala', 'Nursing Student ', 'freshmen ',\n",
              "       'Ganda lang', 'Call Center Agent', 'Cashier', 'Operations',\n",
              "       'Customer Rep\\\\', 'Artist', 'Employed', 'CSR', 'Engineer',\n",
              "       'Software Engineer', 'Worker', 'Customer Service Rep', 'Secretary',\n",
              "       'Volleyball Player', 'Musician'], dtype=object)"
            ]
          },
          "metadata": {},
          "execution_count": 12
        }
      ]
    },
    {
      "cell_type": "code",
      "metadata": {
        "id": "tZ0SBerlm2hS",
        "outputId": "19a55e24-b6e3-4559-a7df-d414c809d2b8",
        "colab": {
          "base_uri": "https://localhost:8080/"
        }
      },
      "source": [
        "# How many values of different room_types do we have?\n",
        "new_year_resolution['Profession'].value_counts()"
      ],
      "execution_count": null,
      "outputs": [
        {
          "output_type": "execute_result",
          "data": {
            "text/plain": [
              "Student                          31\n",
              "student                           4\n",
              "Civil Engineer                    3\n",
              "Call Center Agent                 3\n",
              "Student                           2\n",
              "Operations                        1\n",
              "Volleyball Player                 1\n",
              "Secretary                         1\n",
              "Customer Service Rep              1\n",
              "Worker                            1\n",
              "Software Engineer                 1\n",
              "Engineer                          1\n",
              "CSR                               1\n",
              "Employed                          1\n",
              "Artist                            1\n",
              "Customer Rep\\                     1\n",
              "Ganda lang                        1\n",
              "Cashier                           1\n",
              "freshmen                          1\n",
              "Nursing Student                   1\n",
              "Wala                              1\n",
              "House Wife                        1\n",
              "Talent Acquisition Specialist     1\n",
              "Unemployed                        1\n",
              "Laboratory Analyst                1\n",
              "student                           1\n",
              "Analyst                           1\n",
              "BSEED MAJOR IN SOCIAL STUDIES     1\n",
              "Musician                          1\n",
              "Name: Profession, dtype: int64"
            ]
          },
          "metadata": {},
          "execution_count": 13
        }
      ]
    },
    {
      "cell_type": "markdown",
      "metadata": {
        "id": "8jp5m7QmnCsM"
      },
      "source": [
        "## **Cleaning data** "
      ]
    },
    {
      "cell_type": "markdown",
      "metadata": {
        "id": "7rrd0kYCnIYE"
      },
      "source": [
        "### Data type problems"
      ]
    },
    {
      "cell_type": "code",
      "metadata": {
        "id": "NawK3x5Tk7HF",
        "outputId": "d567df0e-ee4d-4d4c-c587-52fccc309121",
        "colab": {
          "base_uri": "https://localhost:8080/",
          "height": 237
        }
      },
      "source": [
        "# Reminder of the DataFrame\n",
        "new_year_resolution.head()"
      ],
      "execution_count": 7,
      "outputs": [
        {
          "output_type": "execute_result",
          "data": {
            "text/plain": [
              "                                               Name  Age             Gender  \\\n",
              "Email Address                                                                 \n",
              "annepauline.topacio@tup.edu.ph      Pauline Topacio   22             Female   \n",
              "paulenglaxamana@gmail.com                   Pauleng   20  Prefer not to say   \n",
              "chinmacy.maroto@tup.edu.ph      Chin Macy E. Maroto   22             Female   \n",
              "jamiiemoros30@gmail.com                      jamiie   22  Prefer not to say   \n",
              "Reyhannahlineses@gmail.com               Hannah Rey   21             Female   \n",
              "\n",
              "                                                   Profession  \\\n",
              "Email Address                                                   \n",
              "annepauline.topacio@tup.edu.ph                        Student   \n",
              "paulenglaxamana@gmail.com                             Student   \n",
              "chinmacy.maroto@tup.edu.ph                            Student   \n",
              "jamiiemoros30@gmail.com                              Student    \n",
              "Reyhannahlineses@gmail.com      BSEED MAJOR IN SOCIAL STUDIES   \n",
              "\n",
              "                                                            New Year's Resolution  \n",
              "Email Address                                                                      \n",
              "annepauline.topacio@tup.edu.ph  Eat healthier, Read more, Lose weight, Achieve...  \n",
              "paulenglaxamana@gmail.com       Get a new job, Spend more time with family and...  \n",
              "chinmacy.maroto@tup.edu.ph      Travel more, Eat healthier, Get a new job, Exe...  \n",
              "jamiiemoros30@gmail.com         Achieve a personal goal, Save money, Get more ...  \n",
              "Reyhannahlineses@gmail.com                   Travel more, Achieve a personal goal  "
            ],
            "text/html": [
              "\n",
              "  <div id=\"df-92108bd3-9903-40e4-a558-2eb990bd24ee\">\n",
              "    <div class=\"colab-df-container\">\n",
              "      <div>\n",
              "<style scoped>\n",
              "    .dataframe tbody tr th:only-of-type {\n",
              "        vertical-align: middle;\n",
              "    }\n",
              "\n",
              "    .dataframe tbody tr th {\n",
              "        vertical-align: top;\n",
              "    }\n",
              "\n",
              "    .dataframe thead th {\n",
              "        text-align: right;\n",
              "    }\n",
              "</style>\n",
              "<table border=\"1\" class=\"dataframe\">\n",
              "  <thead>\n",
              "    <tr style=\"text-align: right;\">\n",
              "      <th></th>\n",
              "      <th>Name</th>\n",
              "      <th>Age</th>\n",
              "      <th>Gender</th>\n",
              "      <th>Profession</th>\n",
              "      <th>New Year's Resolution</th>\n",
              "    </tr>\n",
              "    <tr>\n",
              "      <th>Email Address</th>\n",
              "      <th></th>\n",
              "      <th></th>\n",
              "      <th></th>\n",
              "      <th></th>\n",
              "      <th></th>\n",
              "    </tr>\n",
              "  </thead>\n",
              "  <tbody>\n",
              "    <tr>\n",
              "      <th>annepauline.topacio@tup.edu.ph</th>\n",
              "      <td>Pauline Topacio</td>\n",
              "      <td>22</td>\n",
              "      <td>Female</td>\n",
              "      <td>Student</td>\n",
              "      <td>Eat healthier, Read more, Lose weight, Achieve...</td>\n",
              "    </tr>\n",
              "    <tr>\n",
              "      <th>paulenglaxamana@gmail.com</th>\n",
              "      <td>Pauleng</td>\n",
              "      <td>20</td>\n",
              "      <td>Prefer not to say</td>\n",
              "      <td>Student</td>\n",
              "      <td>Get a new job, Spend more time with family and...</td>\n",
              "    </tr>\n",
              "    <tr>\n",
              "      <th>chinmacy.maroto@tup.edu.ph</th>\n",
              "      <td>Chin Macy E. Maroto</td>\n",
              "      <td>22</td>\n",
              "      <td>Female</td>\n",
              "      <td>Student</td>\n",
              "      <td>Travel more, Eat healthier, Get a new job, Exe...</td>\n",
              "    </tr>\n",
              "    <tr>\n",
              "      <th>jamiiemoros30@gmail.com</th>\n",
              "      <td>jamiie</td>\n",
              "      <td>22</td>\n",
              "      <td>Prefer not to say</td>\n",
              "      <td>Student</td>\n",
              "      <td>Achieve a personal goal, Save money, Get more ...</td>\n",
              "    </tr>\n",
              "    <tr>\n",
              "      <th>Reyhannahlineses@gmail.com</th>\n",
              "      <td>Hannah Rey</td>\n",
              "      <td>21</td>\n",
              "      <td>Female</td>\n",
              "      <td>BSEED MAJOR IN SOCIAL STUDIES</td>\n",
              "      <td>Travel more, Achieve a personal goal</td>\n",
              "    </tr>\n",
              "  </tbody>\n",
              "</table>\n",
              "</div>\n",
              "      <button class=\"colab-df-convert\" onclick=\"convertToInteractive('df-92108bd3-9903-40e4-a558-2eb990bd24ee')\"\n",
              "              title=\"Convert this dataframe to an interactive table.\"\n",
              "              style=\"display:none;\">\n",
              "        \n",
              "  <svg xmlns=\"http://www.w3.org/2000/svg\" height=\"24px\"viewBox=\"0 0 24 24\"\n",
              "       width=\"24px\">\n",
              "    <path d=\"M0 0h24v24H0V0z\" fill=\"none\"/>\n",
              "    <path d=\"M18.56 5.44l.94 2.06.94-2.06 2.06-.94-2.06-.94-.94-2.06-.94 2.06-2.06.94zm-11 1L8.5 8.5l.94-2.06 2.06-.94-2.06-.94L8.5 2.5l-.94 2.06-2.06.94zm10 10l.94 2.06.94-2.06 2.06-.94-2.06-.94-.94-2.06-.94 2.06-2.06.94z\"/><path d=\"M17.41 7.96l-1.37-1.37c-.4-.4-.92-.59-1.43-.59-.52 0-1.04.2-1.43.59L10.3 9.45l-7.72 7.72c-.78.78-.78 2.05 0 2.83L4 21.41c.39.39.9.59 1.41.59.51 0 1.02-.2 1.41-.59l7.78-7.78 2.81-2.81c.8-.78.8-2.07 0-2.86zM5.41 20L4 18.59l7.72-7.72 1.47 1.35L5.41 20z\"/>\n",
              "  </svg>\n",
              "      </button>\n",
              "      \n",
              "  <style>\n",
              "    .colab-df-container {\n",
              "      display:flex;\n",
              "      flex-wrap:wrap;\n",
              "      gap: 12px;\n",
              "    }\n",
              "\n",
              "    .colab-df-convert {\n",
              "      background-color: #E8F0FE;\n",
              "      border: none;\n",
              "      border-radius: 50%;\n",
              "      cursor: pointer;\n",
              "      display: none;\n",
              "      fill: #1967D2;\n",
              "      height: 32px;\n",
              "      padding: 0 0 0 0;\n",
              "      width: 32px;\n",
              "    }\n",
              "\n",
              "    .colab-df-convert:hover {\n",
              "      background-color: #E2EBFA;\n",
              "      box-shadow: 0px 1px 2px rgba(60, 64, 67, 0.3), 0px 1px 3px 1px rgba(60, 64, 67, 0.15);\n",
              "      fill: #174EA6;\n",
              "    }\n",
              "\n",
              "    [theme=dark] .colab-df-convert {\n",
              "      background-color: #3B4455;\n",
              "      fill: #D2E3FC;\n",
              "    }\n",
              "\n",
              "    [theme=dark] .colab-df-convert:hover {\n",
              "      background-color: #434B5C;\n",
              "      box-shadow: 0px 1px 3px 1px rgba(0, 0, 0, 0.15);\n",
              "      filter: drop-shadow(0px 1px 2px rgba(0, 0, 0, 0.3));\n",
              "      fill: #FFFFFF;\n",
              "    }\n",
              "  </style>\n",
              "\n",
              "      <script>\n",
              "        const buttonEl =\n",
              "          document.querySelector('#df-92108bd3-9903-40e4-a558-2eb990bd24ee button.colab-df-convert');\n",
              "        buttonEl.style.display =\n",
              "          google.colab.kernel.accessAllowed ? 'block' : 'none';\n",
              "\n",
              "        async function convertToInteractive(key) {\n",
              "          const element = document.querySelector('#df-92108bd3-9903-40e4-a558-2eb990bd24ee');\n",
              "          const dataTable =\n",
              "            await google.colab.kernel.invokeFunction('convertToInteractive',\n",
              "                                                     [key], {});\n",
              "          if (!dataTable) return;\n",
              "\n",
              "          const docLinkHtml = 'Like what you see? Visit the ' +\n",
              "            '<a target=\"_blank\" href=https://colab.research.google.com/notebooks/data_table.ipynb>data table notebook</a>'\n",
              "            + ' to learn more about interactive tables.';\n",
              "          element.innerHTML = '';\n",
              "          dataTable['output_type'] = 'display_data';\n",
              "          await google.colab.output.renderOutput(dataTable, element);\n",
              "          const docLink = document.createElement('div');\n",
              "          docLink.innerHTML = docLinkHtml;\n",
              "          element.appendChild(docLink);\n",
              "        }\n",
              "      </script>\n",
              "    </div>\n",
              "  </div>\n",
              "  "
            ]
          },
          "metadata": {},
          "execution_count": 7
        }
      ]
    },
    {
      "cell_type": "markdown",
      "metadata": {
        "id": "85lW-8k_msaY"
      },
      "source": [
        "To perform this task, we will be using the following methods:\n",
        "\n",
        "- `.str.lower()` to lowercase all rows in a string column\n",
        "- `.str.strip()` to remove all white spaces of each row in a string column\n",
        "- `.replace()` to replace values in a column with another"
      ]
    },
    {
      "cell_type": "code",
      "metadata": {
        "id": "hPJHPWB4tOlP",
        "outputId": "a2c42829-6b4f-4be8-b274-2840ba1c649e",
        "colab": {
          "base_uri": "https://localhost:8080/"
        }
      },
      "source": [
        "# Print unique values of `room_type`\n",
        "new_year_resolution['Profession'].unique()"
      ],
      "execution_count": null,
      "outputs": [
        {
          "output_type": "execute_result",
          "data": {
            "text/plain": [
              "array(['Student', 'Student ', 'BSEED MAJOR IN SOCIAL STUDIES', nan,\n",
              "       'Analyst ', 'student ', 'student', 'Laboratory Analyst',\n",
              "       'Unemployed', 'Civil Engineer', 'Talent Acquisition Specialist',\n",
              "       'House Wife', 'Wala', 'Nursing Student ', 'freshmen ',\n",
              "       'Ganda lang', 'Call Center Agent', 'Cashier', 'Operations',\n",
              "       'Customer Rep\\\\', 'Artist', 'Employed', 'CSR', 'Engineer',\n",
              "       'Software Engineer', 'Worker', 'Customer Service Rep', 'Secretary',\n",
              "       'Volleyball Player', 'Musician'], dtype=object)"
            ]
          },
          "metadata": {},
          "execution_count": 15
        }
      ]
    },
    {
      "cell_type": "code",
      "metadata": {
        "id": "HwnSnaPEvncy",
        "outputId": "ca173042-0536-4933-d998-7cbcbc39d8e5",
        "colab": {
          "base_uri": "https://localhost:8080/"
        }
      },
      "source": [
        "# Deal with capitalized values\n",
        "new_year_resolution['Profession'] = new_year_resolution['Profession'].str.lower()\n",
        "new_year_resolution['Profession'].unique()"
      ],
      "execution_count": null,
      "outputs": [
        {
          "output_type": "execute_result",
          "data": {
            "text/plain": [
              "array(['student', 'student ', 'bseed major in social studies', nan,\n",
              "       'analyst ', 'laboratory analyst', 'unemployed', 'civil engineer',\n",
              "       'talent acquisition specialist', 'house wife', 'wala',\n",
              "       'nursing student ', 'freshmen ', 'ganda lang', 'call center agent',\n",
              "       'cashier', 'operations', 'customer rep\\\\', 'artist', 'employed',\n",
              "       'csr', 'engineer', 'software engineer', 'worker',\n",
              "       'customer service rep', 'secretary', 'volleyball player',\n",
              "       'musician'], dtype=object)"
            ]
          },
          "metadata": {},
          "execution_count": 16
        }
      ]
    },
    {
      "cell_type": "code",
      "metadata": {
        "id": "u47Ws-GtvvrC",
        "outputId": "02763a4c-0677-4ff4-d4e2-526f67fa29f7",
        "colab": {
          "base_uri": "https://localhost:8080/"
        }
      },
      "source": [
        "# Deal with trailing spaces\n",
        "new_year_resolution['Profession'] = new_year_resolution['Profession'].str.strip()\n",
        "new_year_resolution['Profession'].unique()"
      ],
      "execution_count": null,
      "outputs": [
        {
          "output_type": "execute_result",
          "data": {
            "text/plain": [
              "array(['student', 'bseed major in social studies', nan, 'analyst',\n",
              "       'laboratory analyst', 'unemployed', 'civil engineer',\n",
              "       'talent acquisition specialist', 'house wife', 'wala',\n",
              "       'nursing student', 'freshmen', 'ganda lang', 'call center agent',\n",
              "       'cashier', 'operations', 'customer rep\\\\', 'artist', 'employed',\n",
              "       'csr', 'engineer', 'software engineer', 'worker',\n",
              "       'customer service rep', 'secretary', 'volleyball player',\n",
              "       'musician'], dtype=object)"
            ]
          },
          "metadata": {},
          "execution_count": 17
        }
      ]
    },
    {
      "cell_type": "code",
      "metadata": {
        "id": "tYyyzZ2pwMtx",
        "outputId": "74f48cfa-4f35-4477-bbe0-030f20ed1c56",
        "colab": {
          "base_uri": "https://localhost:8080/"
        }
      },
      "source": [
        "# Replace values to 'Shared room', 'Entire place', 'Private room' and 'Hotel room' (if applicable).\n",
        "mappings = {'student': 'Student'}\n",
        "\n",
        "# Replace values and collapse data\n",
        "new_year_resolution['Profession'] = new_year_resolution['Profession'].replace(mappings)\n",
        "new_year_resolution['Profession'].unique()"
      ],
      "execution_count": 9,
      "outputs": [
        {
          "output_type": "execute_result",
          "data": {
            "text/plain": [
              "array(['Student', 'Student ', 'BSEED MAJOR IN SOCIAL STUDIES', nan,\n",
              "       'Analyst ', 'student ', 'Laboratory Analyst', 'Unemployed',\n",
              "       'Civil Engineer', 'Talent Acquisition Specialist', 'House Wife',\n",
              "       'Wala', 'Nursing Student ', 'freshmen ', 'Ganda lang',\n",
              "       'Call Center Agent', 'Cashier', 'Operations', 'Customer Rep\\\\',\n",
              "       'Artist', 'Employed', 'CSR', 'Engineer', 'Software Engineer',\n",
              "       'Worker', 'Customer Service Rep', 'Secretary', 'Volleyball Player',\n",
              "       'Musician'], dtype=object)"
            ]
          },
          "metadata": {},
          "execution_count": 9
        }
      ]
    },
    {
      "cell_type": "markdown",
      "metadata": {
        "id": "VA_2KMIkxjhL"
      },
      "source": [
        "##### **Task 5:** Divide `neighbourhood_full` into 2 columns and making sure they are clean"
      ]
    },
    {
      "cell_type": "code",
      "source": [
        "new_year_resolution.head()"
      ],
      "metadata": {
        "colab": {
          "base_uri": "https://localhost:8080/",
          "height": 237
        },
        "id": "RgvIS3fzs1eS",
        "outputId": "cc10a2f6-ee51-4c75-a702-3d26a9b067c9"
      },
      "execution_count": 11,
      "outputs": [
        {
          "output_type": "execute_result",
          "data": {
            "text/plain": [
              "                                               Name  Age             Gender  \\\n",
              "Email Address                                                                 \n",
              "annepauline.topacio@tup.edu.ph      Pauline Topacio   22             Female   \n",
              "paulenglaxamana@gmail.com                   Pauleng   20  Prefer not to say   \n",
              "chinmacy.maroto@tup.edu.ph      Chin Macy E. Maroto   22             Female   \n",
              "jamiiemoros30@gmail.com                      jamiie   22  Prefer not to say   \n",
              "Reyhannahlineses@gmail.com               Hannah Rey   21             Female   \n",
              "\n",
              "                                                   Profession  \\\n",
              "Email Address                                                   \n",
              "annepauline.topacio@tup.edu.ph                        Student   \n",
              "paulenglaxamana@gmail.com                             Student   \n",
              "chinmacy.maroto@tup.edu.ph                            Student   \n",
              "jamiiemoros30@gmail.com                              Student    \n",
              "Reyhannahlineses@gmail.com      BSEED MAJOR IN SOCIAL STUDIES   \n",
              "\n",
              "                                                            New Year's Resolution  \n",
              "Email Address                                                                      \n",
              "annepauline.topacio@tup.edu.ph  Eat healthier, Read more, Lose weight, Achieve...  \n",
              "paulenglaxamana@gmail.com       Get a new job, Spend more time with family and...  \n",
              "chinmacy.maroto@tup.edu.ph      Travel more, Eat healthier, Get a new job, Exe...  \n",
              "jamiiemoros30@gmail.com         Achieve a personal goal, Save money, Get more ...  \n",
              "Reyhannahlineses@gmail.com                   Travel more, Achieve a personal goal  "
            ],
            "text/html": [
              "\n",
              "  <div id=\"df-55260d5f-ddd8-436c-abc6-0cd0838a41ba\">\n",
              "    <div class=\"colab-df-container\">\n",
              "      <div>\n",
              "<style scoped>\n",
              "    .dataframe tbody tr th:only-of-type {\n",
              "        vertical-align: middle;\n",
              "    }\n",
              "\n",
              "    .dataframe tbody tr th {\n",
              "        vertical-align: top;\n",
              "    }\n",
              "\n",
              "    .dataframe thead th {\n",
              "        text-align: right;\n",
              "    }\n",
              "</style>\n",
              "<table border=\"1\" class=\"dataframe\">\n",
              "  <thead>\n",
              "    <tr style=\"text-align: right;\">\n",
              "      <th></th>\n",
              "      <th>Name</th>\n",
              "      <th>Age</th>\n",
              "      <th>Gender</th>\n",
              "      <th>Profession</th>\n",
              "      <th>New Year's Resolution</th>\n",
              "    </tr>\n",
              "    <tr>\n",
              "      <th>Email Address</th>\n",
              "      <th></th>\n",
              "      <th></th>\n",
              "      <th></th>\n",
              "      <th></th>\n",
              "      <th></th>\n",
              "    </tr>\n",
              "  </thead>\n",
              "  <tbody>\n",
              "    <tr>\n",
              "      <th>annepauline.topacio@tup.edu.ph</th>\n",
              "      <td>Pauline Topacio</td>\n",
              "      <td>22</td>\n",
              "      <td>Female</td>\n",
              "      <td>Student</td>\n",
              "      <td>Eat healthier, Read more, Lose weight, Achieve...</td>\n",
              "    </tr>\n",
              "    <tr>\n",
              "      <th>paulenglaxamana@gmail.com</th>\n",
              "      <td>Pauleng</td>\n",
              "      <td>20</td>\n",
              "      <td>Prefer not to say</td>\n",
              "      <td>Student</td>\n",
              "      <td>Get a new job, Spend more time with family and...</td>\n",
              "    </tr>\n",
              "    <tr>\n",
              "      <th>chinmacy.maroto@tup.edu.ph</th>\n",
              "      <td>Chin Macy E. Maroto</td>\n",
              "      <td>22</td>\n",
              "      <td>Female</td>\n",
              "      <td>Student</td>\n",
              "      <td>Travel more, Eat healthier, Get a new job, Exe...</td>\n",
              "    </tr>\n",
              "    <tr>\n",
              "      <th>jamiiemoros30@gmail.com</th>\n",
              "      <td>jamiie</td>\n",
              "      <td>22</td>\n",
              "      <td>Prefer not to say</td>\n",
              "      <td>Student</td>\n",
              "      <td>Achieve a personal goal, Save money, Get more ...</td>\n",
              "    </tr>\n",
              "    <tr>\n",
              "      <th>Reyhannahlineses@gmail.com</th>\n",
              "      <td>Hannah Rey</td>\n",
              "      <td>21</td>\n",
              "      <td>Female</td>\n",
              "      <td>BSEED MAJOR IN SOCIAL STUDIES</td>\n",
              "      <td>Travel more, Achieve a personal goal</td>\n",
              "    </tr>\n",
              "  </tbody>\n",
              "</table>\n",
              "</div>\n",
              "      <button class=\"colab-df-convert\" onclick=\"convertToInteractive('df-55260d5f-ddd8-436c-abc6-0cd0838a41ba')\"\n",
              "              title=\"Convert this dataframe to an interactive table.\"\n",
              "              style=\"display:none;\">\n",
              "        \n",
              "  <svg xmlns=\"http://www.w3.org/2000/svg\" height=\"24px\"viewBox=\"0 0 24 24\"\n",
              "       width=\"24px\">\n",
              "    <path d=\"M0 0h24v24H0V0z\" fill=\"none\"/>\n",
              "    <path d=\"M18.56 5.44l.94 2.06.94-2.06 2.06-.94-2.06-.94-.94-2.06-.94 2.06-2.06.94zm-11 1L8.5 8.5l.94-2.06 2.06-.94-2.06-.94L8.5 2.5l-.94 2.06-2.06.94zm10 10l.94 2.06.94-2.06 2.06-.94-2.06-.94-.94-2.06-.94 2.06-2.06.94z\"/><path d=\"M17.41 7.96l-1.37-1.37c-.4-.4-.92-.59-1.43-.59-.52 0-1.04.2-1.43.59L10.3 9.45l-7.72 7.72c-.78.78-.78 2.05 0 2.83L4 21.41c.39.39.9.59 1.41.59.51 0 1.02-.2 1.41-.59l7.78-7.78 2.81-2.81c.8-.78.8-2.07 0-2.86zM5.41 20L4 18.59l7.72-7.72 1.47 1.35L5.41 20z\"/>\n",
              "  </svg>\n",
              "      </button>\n",
              "      \n",
              "  <style>\n",
              "    .colab-df-container {\n",
              "      display:flex;\n",
              "      flex-wrap:wrap;\n",
              "      gap: 12px;\n",
              "    }\n",
              "\n",
              "    .colab-df-convert {\n",
              "      background-color: #E8F0FE;\n",
              "      border: none;\n",
              "      border-radius: 50%;\n",
              "      cursor: pointer;\n",
              "      display: none;\n",
              "      fill: #1967D2;\n",
              "      height: 32px;\n",
              "      padding: 0 0 0 0;\n",
              "      width: 32px;\n",
              "    }\n",
              "\n",
              "    .colab-df-convert:hover {\n",
              "      background-color: #E2EBFA;\n",
              "      box-shadow: 0px 1px 2px rgba(60, 64, 67, 0.3), 0px 1px 3px 1px rgba(60, 64, 67, 0.15);\n",
              "      fill: #174EA6;\n",
              "    }\n",
              "\n",
              "    [theme=dark] .colab-df-convert {\n",
              "      background-color: #3B4455;\n",
              "      fill: #D2E3FC;\n",
              "    }\n",
              "\n",
              "    [theme=dark] .colab-df-convert:hover {\n",
              "      background-color: #434B5C;\n",
              "      box-shadow: 0px 1px 3px 1px rgba(0, 0, 0, 0.15);\n",
              "      filter: drop-shadow(0px 1px 2px rgba(0, 0, 0, 0.3));\n",
              "      fill: #FFFFFF;\n",
              "    }\n",
              "  </style>\n",
              "\n",
              "      <script>\n",
              "        const buttonEl =\n",
              "          document.querySelector('#df-55260d5f-ddd8-436c-abc6-0cd0838a41ba button.colab-df-convert');\n",
              "        buttonEl.style.display =\n",
              "          google.colab.kernel.accessAllowed ? 'block' : 'none';\n",
              "\n",
              "        async function convertToInteractive(key) {\n",
              "          const element = document.querySelector('#df-55260d5f-ddd8-436c-abc6-0cd0838a41ba');\n",
              "          const dataTable =\n",
              "            await google.colab.kernel.invokeFunction('convertToInteractive',\n",
              "                                                     [key], {});\n",
              "          if (!dataTable) return;\n",
              "\n",
              "          const docLinkHtml = 'Like what you see? Visit the ' +\n",
              "            '<a target=\"_blank\" href=https://colab.research.google.com/notebooks/data_table.ipynb>data table notebook</a>'\n",
              "            + ' to learn more about interactive tables.';\n",
              "          element.innerHTML = '';\n",
              "          dataTable['output_type'] = 'display_data';\n",
              "          await google.colab.output.renderOutput(dataTable, element);\n",
              "          const docLink = document.createElement('div');\n",
              "          docLink.innerHTML = docLinkHtml;\n",
              "          element.appendChild(docLink);\n",
              "        }\n",
              "      </script>\n",
              "    </div>\n",
              "  </div>\n",
              "  "
            ]
          },
          "metadata": {},
          "execution_count": 11
        }
      ]
    },
    {
      "cell_type": "code",
      "metadata": {
        "id": "Nc3u9b57xKOu",
        "outputId": "3cf48e99-7fee-46c1-af39-e7ded0064246",
        "colab": {
          "base_uri": "https://localhost:8080/"
        }
      },
      "source": [
        "# Print header of column\n",
        "new_year_resolution['New Years Resolution'].head()"
      ],
      "execution_count": 15,
      "outputs": [
        {
          "output_type": "execute_result",
          "data": {
            "text/plain": [
              "Email Address\n",
              "annepauline.topacio@tup.edu.ph    Eat healthier, Read more, Lose weight, Achieve...\n",
              "paulenglaxamana@gmail.com         Get a new job, Spend more time with family and...\n",
              "chinmacy.maroto@tup.edu.ph        Travel more, Eat healthier, Get a new job, Exe...\n",
              "jamiiemoros30@gmail.com           Achieve a personal goal, Save money, Get more ...\n",
              "Reyhannahlineses@gmail.com                     Travel more, Achieve a personal goal\n",
              "Name: New Years Resolution, dtype: object"
            ]
          },
          "metadata": {},
          "execution_count": 15
        }
      ]
    },
    {
      "cell_type": "code",
      "metadata": {
        "id": "88O9T3WYxreo",
        "outputId": "5a099a19-812a-4fc2-80d0-120e9b8031ef",
        "colab": {
          "base_uri": "https://localhost:8080/",
          "height": 683
        }
      },
      "source": [
        "# Split neighbourhood_full\n",
        "resolution = new_year_resolution['New Years Resolution'].str.split(\",\", expand = True)\n",
        "resolution.head()"
      ],
      "execution_count": 17,
      "outputs": [
        {
          "output_type": "execute_result",
          "data": {
            "text/plain": [
              "                                                     0   \\\n",
              "Email Address                                             \n",
              "annepauline.topacio@tup.edu.ph            Eat healthier   \n",
              "paulenglaxamana@gmail.com                 Get a new job   \n",
              "chinmacy.maroto@tup.edu.ph                  Travel more   \n",
              "jamiiemoros30@gmail.com         Achieve a personal goal   \n",
              "Reyhannahlineses@gmail.com                  Travel more   \n",
              "\n",
              "                                                                      1   \\\n",
              "Email Address                                                              \n",
              "annepauline.topacio@tup.edu.ph                                 Read more   \n",
              "paulenglaxamana@gmail.com        Spend more time with family and friends   \n",
              "chinmacy.maroto@tup.edu.ph                                 Eat healthier   \n",
              "jamiiemoros30@gmail.com                                       Save money   \n",
              "Reyhannahlineses@gmail.com                       Achieve a personal goal   \n",
              "\n",
              "                                             2                         3   \\\n",
              "Email Address                                                               \n",
              "annepauline.topacio@tup.edu.ph      Lose weight   Achieve a personal goal   \n",
              "paulenglaxamana@gmail.com            Save money             Reduce stress   \n",
              "chinmacy.maroto@tup.edu.ph        Get a new job             Exercise more   \n",
              "jamiiemoros30@gmail.com          Get more sleep             Exercise more   \n",
              "Reyhannahlineses@gmail.com                 None                      None   \n",
              "\n",
              "                                                    4   \\\n",
              "Email Address                                            \n",
              "annepauline.topacio@tup.edu.ph           Get organized   \n",
              "paulenglaxamana@gmail.com                  Travel more   \n",
              "chinmacy.maroto@tup.edu.ph       Improve relationships   \n",
              "jamiiemoros30@gmail.com                  Reduce stress   \n",
              "Reyhannahlineses@gmail.com                        None   \n",
              "\n",
              "                                                                  5   \\\n",
              "Email Address                                                          \n",
              "annepauline.topacio@tup.edu.ph   Start a new business or side hustle   \n",
              "paulenglaxamana@gmail.com                              Eat healthier   \n",
              "chinmacy.maroto@tup.edu.ph                                 Read more   \n",
              "jamiiemoros30@gmail.com                                  Lose weight   \n",
              "Reyhannahlineses@gmail.com                                      None   \n",
              "\n",
              "                                                                  6   \\\n",
              "Email Address                                                          \n",
              "annepauline.topacio@tup.edu.ph            Learn a new skill or hobby   \n",
              "paulenglaxamana@gmail.com                    Achieve a personal goal   \n",
              "chinmacy.maroto@tup.edu.ph       Start a new business or side hustle   \n",
              "jamiiemoros30@gmail.com                                         None   \n",
              "Reyhannahlineses@gmail.com                                      None   \n",
              "\n",
              "                                                         7   \\\n",
              "Email Address                                                 \n",
              "annepauline.topacio@tup.edu.ph                         None   \n",
              "paulenglaxamana@gmail.com        Learn a new skill or hobby   \n",
              "chinmacy.maroto@tup.edu.ph                   Get more sleep   \n",
              "jamiiemoros30@gmail.com                                None   \n",
              "Reyhannahlineses@gmail.com                             None   \n",
              "\n",
              "                                               8                    9   \\\n",
              "Email Address                                                            \n",
              "annepauline.topacio@tup.edu.ph               None                 None   \n",
              "paulenglaxamana@gmail.com           Get organized                 None   \n",
              "chinmacy.maroto@tup.edu.ph       Quit a bad habit   Drink less alcohol   \n",
              "jamiiemoros30@gmail.com                      None                 None   \n",
              "Reyhannahlineses@gmail.com                   None                 None   \n",
              "\n",
              "                                                                      10  \\\n",
              "Email Address                                                              \n",
              "annepauline.topacio@tup.edu.ph                                      None   \n",
              "paulenglaxamana@gmail.com                                           None   \n",
              "chinmacy.maroto@tup.edu.ph       Spend more time with family and friends   \n",
              "jamiiemoros30@gmail.com                                             None   \n",
              "Reyhannahlineses@gmail.com                                          None   \n",
              "\n",
              "                                         11              12              13  \\\n",
              "Email Address                                                                 \n",
              "annepauline.topacio@tup.edu.ph         None            None            None   \n",
              "paulenglaxamana@gmail.com              None            None            None   \n",
              "chinmacy.maroto@tup.edu.ph       Save money   Reduce stress   Get organized   \n",
              "jamiiemoros30@gmail.com                None            None            None   \n",
              "Reyhannahlineses@gmail.com             None            None            None   \n",
              "\n",
              "                                                      14  \\\n",
              "Email Address                                              \n",
              "annepauline.topacio@tup.edu.ph                      None   \n",
              "paulenglaxamana@gmail.com                           None   \n",
              "chinmacy.maroto@tup.edu.ph       Achieve a personal goal   \n",
              "jamiiemoros30@gmail.com                             None   \n",
              "Reyhannahlineses@gmail.com                          None   \n",
              "\n",
              "                                                                      15  \\\n",
              "Email Address                                                              \n",
              "annepauline.topacio@tup.edu.ph                                      None   \n",
              "paulenglaxamana@gmail.com                                           None   \n",
              "chinmacy.maroto@tup.edu.ph       Volunteer or give back to the community   \n",
              "jamiiemoros30@gmail.com                                             None   \n",
              "Reyhannahlineses@gmail.com                                          None   \n",
              "\n",
              "                                                         16  \\\n",
              "Email Address                                                 \n",
              "annepauline.topacio@tup.edu.ph                         None   \n",
              "paulenglaxamana@gmail.com                              None   \n",
              "chinmacy.maroto@tup.edu.ph       Learn a new skill or hobby   \n",
              "jamiiemoros30@gmail.com                                None   \n",
              "Reyhannahlineses@gmail.com                             None   \n",
              "\n",
              "                                                      17  \n",
              "Email Address                                             \n",
              "annepauline.topacio@tup.edu.ph                      None  \n",
              "paulenglaxamana@gmail.com                           None  \n",
              "chinmacy.maroto@tup.edu.ph       Get a promotion at work  \n",
              "jamiiemoros30@gmail.com                             None  \n",
              "Reyhannahlineses@gmail.com                          None  "
            ],
            "text/html": [
              "\n",
              "  <div id=\"df-c94985c3-df28-4c61-8f20-fc07ba556ed8\">\n",
              "    <div class=\"colab-df-container\">\n",
              "      <div>\n",
              "<style scoped>\n",
              "    .dataframe tbody tr th:only-of-type {\n",
              "        vertical-align: middle;\n",
              "    }\n",
              "\n",
              "    .dataframe tbody tr th {\n",
              "        vertical-align: top;\n",
              "    }\n",
              "\n",
              "    .dataframe thead th {\n",
              "        text-align: right;\n",
              "    }\n",
              "</style>\n",
              "<table border=\"1\" class=\"dataframe\">\n",
              "  <thead>\n",
              "    <tr style=\"text-align: right;\">\n",
              "      <th></th>\n",
              "      <th>0</th>\n",
              "      <th>1</th>\n",
              "      <th>2</th>\n",
              "      <th>3</th>\n",
              "      <th>4</th>\n",
              "      <th>5</th>\n",
              "      <th>6</th>\n",
              "      <th>7</th>\n",
              "      <th>8</th>\n",
              "      <th>9</th>\n",
              "      <th>10</th>\n",
              "      <th>11</th>\n",
              "      <th>12</th>\n",
              "      <th>13</th>\n",
              "      <th>14</th>\n",
              "      <th>15</th>\n",
              "      <th>16</th>\n",
              "      <th>17</th>\n",
              "    </tr>\n",
              "    <tr>\n",
              "      <th>Email Address</th>\n",
              "      <th></th>\n",
              "      <th></th>\n",
              "      <th></th>\n",
              "      <th></th>\n",
              "      <th></th>\n",
              "      <th></th>\n",
              "      <th></th>\n",
              "      <th></th>\n",
              "      <th></th>\n",
              "      <th></th>\n",
              "      <th></th>\n",
              "      <th></th>\n",
              "      <th></th>\n",
              "      <th></th>\n",
              "      <th></th>\n",
              "      <th></th>\n",
              "      <th></th>\n",
              "      <th></th>\n",
              "    </tr>\n",
              "  </thead>\n",
              "  <tbody>\n",
              "    <tr>\n",
              "      <th>annepauline.topacio@tup.edu.ph</th>\n",
              "      <td>Eat healthier</td>\n",
              "      <td>Read more</td>\n",
              "      <td>Lose weight</td>\n",
              "      <td>Achieve a personal goal</td>\n",
              "      <td>Get organized</td>\n",
              "      <td>Start a new business or side hustle</td>\n",
              "      <td>Learn a new skill or hobby</td>\n",
              "      <td>None</td>\n",
              "      <td>None</td>\n",
              "      <td>None</td>\n",
              "      <td>None</td>\n",
              "      <td>None</td>\n",
              "      <td>None</td>\n",
              "      <td>None</td>\n",
              "      <td>None</td>\n",
              "      <td>None</td>\n",
              "      <td>None</td>\n",
              "      <td>None</td>\n",
              "    </tr>\n",
              "    <tr>\n",
              "      <th>paulenglaxamana@gmail.com</th>\n",
              "      <td>Get a new job</td>\n",
              "      <td>Spend more time with family and friends</td>\n",
              "      <td>Save money</td>\n",
              "      <td>Reduce stress</td>\n",
              "      <td>Travel more</td>\n",
              "      <td>Eat healthier</td>\n",
              "      <td>Achieve a personal goal</td>\n",
              "      <td>Learn a new skill or hobby</td>\n",
              "      <td>Get organized</td>\n",
              "      <td>None</td>\n",
              "      <td>None</td>\n",
              "      <td>None</td>\n",
              "      <td>None</td>\n",
              "      <td>None</td>\n",
              "      <td>None</td>\n",
              "      <td>None</td>\n",
              "      <td>None</td>\n",
              "      <td>None</td>\n",
              "    </tr>\n",
              "    <tr>\n",
              "      <th>chinmacy.maroto@tup.edu.ph</th>\n",
              "      <td>Travel more</td>\n",
              "      <td>Eat healthier</td>\n",
              "      <td>Get a new job</td>\n",
              "      <td>Exercise more</td>\n",
              "      <td>Improve relationships</td>\n",
              "      <td>Read more</td>\n",
              "      <td>Start a new business or side hustle</td>\n",
              "      <td>Get more sleep</td>\n",
              "      <td>Quit a bad habit</td>\n",
              "      <td>Drink less alcohol</td>\n",
              "      <td>Spend more time with family and friends</td>\n",
              "      <td>Save money</td>\n",
              "      <td>Reduce stress</td>\n",
              "      <td>Get organized</td>\n",
              "      <td>Achieve a personal goal</td>\n",
              "      <td>Volunteer or give back to the community</td>\n",
              "      <td>Learn a new skill or hobby</td>\n",
              "      <td>Get a promotion at work</td>\n",
              "    </tr>\n",
              "    <tr>\n",
              "      <th>jamiiemoros30@gmail.com</th>\n",
              "      <td>Achieve a personal goal</td>\n",
              "      <td>Save money</td>\n",
              "      <td>Get more sleep</td>\n",
              "      <td>Exercise more</td>\n",
              "      <td>Reduce stress</td>\n",
              "      <td>Lose weight</td>\n",
              "      <td>None</td>\n",
              "      <td>None</td>\n",
              "      <td>None</td>\n",
              "      <td>None</td>\n",
              "      <td>None</td>\n",
              "      <td>None</td>\n",
              "      <td>None</td>\n",
              "      <td>None</td>\n",
              "      <td>None</td>\n",
              "      <td>None</td>\n",
              "      <td>None</td>\n",
              "      <td>None</td>\n",
              "    </tr>\n",
              "    <tr>\n",
              "      <th>Reyhannahlineses@gmail.com</th>\n",
              "      <td>Travel more</td>\n",
              "      <td>Achieve a personal goal</td>\n",
              "      <td>None</td>\n",
              "      <td>None</td>\n",
              "      <td>None</td>\n",
              "      <td>None</td>\n",
              "      <td>None</td>\n",
              "      <td>None</td>\n",
              "      <td>None</td>\n",
              "      <td>None</td>\n",
              "      <td>None</td>\n",
              "      <td>None</td>\n",
              "      <td>None</td>\n",
              "      <td>None</td>\n",
              "      <td>None</td>\n",
              "      <td>None</td>\n",
              "      <td>None</td>\n",
              "      <td>None</td>\n",
              "    </tr>\n",
              "  </tbody>\n",
              "</table>\n",
              "</div>\n",
              "      <button class=\"colab-df-convert\" onclick=\"convertToInteractive('df-c94985c3-df28-4c61-8f20-fc07ba556ed8')\"\n",
              "              title=\"Convert this dataframe to an interactive table.\"\n",
              "              style=\"display:none;\">\n",
              "        \n",
              "  <svg xmlns=\"http://www.w3.org/2000/svg\" height=\"24px\"viewBox=\"0 0 24 24\"\n",
              "       width=\"24px\">\n",
              "    <path d=\"M0 0h24v24H0V0z\" fill=\"none\"/>\n",
              "    <path d=\"M18.56 5.44l.94 2.06.94-2.06 2.06-.94-2.06-.94-.94-2.06-.94 2.06-2.06.94zm-11 1L8.5 8.5l.94-2.06 2.06-.94-2.06-.94L8.5 2.5l-.94 2.06-2.06.94zm10 10l.94 2.06.94-2.06 2.06-.94-2.06-.94-.94-2.06-.94 2.06-2.06.94z\"/><path d=\"M17.41 7.96l-1.37-1.37c-.4-.4-.92-.59-1.43-.59-.52 0-1.04.2-1.43.59L10.3 9.45l-7.72 7.72c-.78.78-.78 2.05 0 2.83L4 21.41c.39.39.9.59 1.41.59.51 0 1.02-.2 1.41-.59l7.78-7.78 2.81-2.81c.8-.78.8-2.07 0-2.86zM5.41 20L4 18.59l7.72-7.72 1.47 1.35L5.41 20z\"/>\n",
              "  </svg>\n",
              "      </button>\n",
              "      \n",
              "  <style>\n",
              "    .colab-df-container {\n",
              "      display:flex;\n",
              "      flex-wrap:wrap;\n",
              "      gap: 12px;\n",
              "    }\n",
              "\n",
              "    .colab-df-convert {\n",
              "      background-color: #E8F0FE;\n",
              "      border: none;\n",
              "      border-radius: 50%;\n",
              "      cursor: pointer;\n",
              "      display: none;\n",
              "      fill: #1967D2;\n",
              "      height: 32px;\n",
              "      padding: 0 0 0 0;\n",
              "      width: 32px;\n",
              "    }\n",
              "\n",
              "    .colab-df-convert:hover {\n",
              "      background-color: #E2EBFA;\n",
              "      box-shadow: 0px 1px 2px rgba(60, 64, 67, 0.3), 0px 1px 3px 1px rgba(60, 64, 67, 0.15);\n",
              "      fill: #174EA6;\n",
              "    }\n",
              "\n",
              "    [theme=dark] .colab-df-convert {\n",
              "      background-color: #3B4455;\n",
              "      fill: #D2E3FC;\n",
              "    }\n",
              "\n",
              "    [theme=dark] .colab-df-convert:hover {\n",
              "      background-color: #434B5C;\n",
              "      box-shadow: 0px 1px 3px 1px rgba(0, 0, 0, 0.15);\n",
              "      filter: drop-shadow(0px 1px 2px rgba(0, 0, 0, 0.3));\n",
              "      fill: #FFFFFF;\n",
              "    }\n",
              "  </style>\n",
              "\n",
              "      <script>\n",
              "        const buttonEl =\n",
              "          document.querySelector('#df-c94985c3-df28-4c61-8f20-fc07ba556ed8 button.colab-df-convert');\n",
              "        buttonEl.style.display =\n",
              "          google.colab.kernel.accessAllowed ? 'block' : 'none';\n",
              "\n",
              "        async function convertToInteractive(key) {\n",
              "          const element = document.querySelector('#df-c94985c3-df28-4c61-8f20-fc07ba556ed8');\n",
              "          const dataTable =\n",
              "            await google.colab.kernel.invokeFunction('convertToInteractive',\n",
              "                                                     [key], {});\n",
              "          if (!dataTable) return;\n",
              "\n",
              "          const docLinkHtml = 'Like what you see? Visit the ' +\n",
              "            '<a target=\"_blank\" href=https://colab.research.google.com/notebooks/data_table.ipynb>data table notebook</a>'\n",
              "            + ' to learn more about interactive tables.';\n",
              "          element.innerHTML = '';\n",
              "          dataTable['output_type'] = 'display_data';\n",
              "          await google.colab.output.renderOutput(dataTable, element);\n",
              "          const docLink = document.createElement('div');\n",
              "          docLink.innerHTML = docLinkHtml;\n",
              "          element.appendChild(docLink);\n",
              "        }\n",
              "      </script>\n",
              "    </div>\n",
              "  </div>\n",
              "  "
            ]
          },
          "metadata": {},
          "execution_count": 17
        }
      ]
    }
  ]
}